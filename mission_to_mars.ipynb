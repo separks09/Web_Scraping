{
 "cells": [
  {
   "cell_type": "code",
   "execution_count": 40,
   "metadata": {},
   "outputs": [],
   "source": [
    "# Import dependencies\n",
    "import pandas as pd\n",
    "from bs4 import BeautifulSoup as bs\n",
    "from splinter import Browser"
   ]
  },
  {
   "cell_type": "code",
   "execution_count": 41,
   "metadata": {},
   "outputs": [],
   "source": [
    "# URL of first page to be scraped\n",
    "url = \"https://mars.nasa.gov/news\"\n",
    "\n",
    "# Path to ChromeDriver\n",
    "executable_path = {'executable_path': r'C:\\Users\\sharo\\Desktop\\ChromeDriver\\chromedriver.exe'}\n",
    "\n",
    "# Set browser\n",
    "browser = Browser(\"chrome\", **executable_path, headless=False)\n",
    "browser.visit(url)\n",
    "\n",
    "# Create a Beautiful Soup object for nasa.gov\n",
    "html = browser.html\n",
    "soup = bs(html, 'html.parser')"
   ]
  },
  {
   "cell_type": "code",
   "execution_count": 32,
   "metadata": {},
   "outputs": [
    {
     "name": "stdout",
     "output_type": "stream",
     "text": [
      "Mars Helicopter to Fly on NASA’s Next Red Planet Rover Mission\n",
      "NASA is adding a Mars helicopter to the agency’s next mission to the Red Planet, Mars 2020.\n",
      "https://mars.nasa.gov/system/news_items/list_view_images/8335_helicopter20180511-16-th.jpg\n"
     ]
    }
   ],
   "source": [
    "news_title = soup.find(\"div\", class_=\"content_title\").text.strip()\n",
    "news_text = soup.find(\"div\", class_=\"article_teaser_body\").text.strip()\n",
    "news_image = soup.find(\"div\", class_=\"list_image\").find(\"img\")[\"src\"]\n",
    "news_image_url = \"https://mars.nasa.gov\"+news_image\n",
    "\n",
    "print(news_title)\n",
    "print(news_text)\n",
    "print(news_image_url)"
   ]
  },
  {
   "cell_type": "code",
   "execution_count": 33,
   "metadata": {},
   "outputs": [],
   "source": [
    "# URL for second page to be scraped\n",
    "url2 = \"https://www.jpl.nasa.gov/spaceimages/?search=&category=Mars\"\n",
    "\n",
    "# Set browser\n",
    "browser2 = Browser(\"chrome\", **executable_path, headless=False)\n",
    "browser2.visit(url2)\n",
    "\n",
    "# Create a Beautiful Soup object for jpl.nasa.gov\n",
    "html2 = browser2.html\n",
    "soup2 = bs(html2, 'html.parser')"
   ]
  },
  {
   "cell_type": "code",
   "execution_count": 38,
   "metadata": {},
   "outputs": [
    {
     "name": "stdout",
     "output_type": "stream",
     "text": [
      "https://www.jpl.nasa.gov/spaceimages/images/mediumsize/PIA19180_ip.jpg\n"
     ]
    }
   ],
   "source": [
    "featured_image = soup2.find(\"a\", class_=\"button\")[\"data-fancybox-href\"]\n",
    "featured_image_url = \"https://www.jpl.nasa.gov\"+featured_image\n",
    "\n",
    "print(featured_image_url)"
   ]
  },
  {
   "cell_type": "code",
   "execution_count": 17,
   "metadata": {},
   "outputs": [],
   "source": [
    "# URL for third page to be scraped\n",
    "url3 = \"https://twitter.com/marswxreport?lang=en\"\n",
    "\n",
    "# Set browser\n",
    "browser3 = Browser(\"chrome\", **executable_path, headless=False)\n",
    "browser3.visit(url3)\n",
    "\n",
    "# Create a Beautiful Soup object for twitter.com\n",
    "html3 = browser3.html\n",
    "soup3 = bs(html3, 'html.parser')"
   ]
  },
  {
   "cell_type": "code",
   "execution_count": 18,
   "metadata": {},
   "outputs": [
    {
     "name": "stdout",
     "output_type": "stream",
     "text": [
      "Sol 2050 (May 13, 2018), Sunny, high 1C/33F, low -71C/-95F, pressure at 7.37 hPa, daylight 05:21-17:20\n"
     ]
    }
   ],
   "source": [
    "mars_weather = soup3.find(\"p\", class_=\"TweetTextSize TweetTextSize--normal js-tweet-text tweet-text\").text\n",
    "print(mars_weather)"
   ]
  },
  {
   "cell_type": "code",
   "execution_count": 19,
   "metadata": {},
   "outputs": [],
   "source": [
    "# URL for fourth page to be scraped\n",
    "url4 = \"https://space-facts.com/mars/\"\n",
    "\n",
    "# Set browser\n",
    "browser4 = Browser(\"chrome\", **executable_path, headless=False)\n",
    "browser4.visit(url4)\n",
    "\n",
    "# Create a Beautiful Soup object for twitter.com\n",
    "html4 = browser4.html\n",
    "soup4 = bs(html4, 'html.parser')"
   ]
  },
  {
   "cell_type": "code",
   "execution_count": 20,
   "metadata": {},
   "outputs": [],
   "source": [
    "results = soup4.find_all(\"td\", class_=\"column-1\")\n",
    "results2 = soup4.find_all(\"td\", class_=\"column-2\")"
   ]
  },
  {
   "cell_type": "code",
   "execution_count": 26,
   "metadata": {},
   "outputs": [
    {
     "data": {
      "text/html": [
       "<div>\n",
       "<style scoped>\n",
       "    .dataframe tbody tr th:only-of-type {\n",
       "        vertical-align: middle;\n",
       "    }\n",
       "\n",
       "    .dataframe tbody tr th {\n",
       "        vertical-align: top;\n",
       "    }\n",
       "\n",
       "    .dataframe thead th {\n",
       "        text-align: right;\n",
       "    }\n",
       "</style>\n",
       "<table border=\"1\" class=\"dataframe\">\n",
       "  <thead>\n",
       "    <tr style=\"text-align: right;\">\n",
       "      <th></th>\n",
       "      <th>Fact</th>\n",
       "      <th>Result</th>\n",
       "    </tr>\n",
       "  </thead>\n",
       "  <tbody>\n",
       "    <tr>\n",
       "      <th>0</th>\n",
       "      <td>Equatorial Diameter</td>\n",
       "      <td>6,792 km\\n</td>\n",
       "    </tr>\n",
       "    <tr>\n",
       "      <th>1</th>\n",
       "      <td>Polar Diameter</td>\n",
       "      <td>6,752 km\\n</td>\n",
       "    </tr>\n",
       "    <tr>\n",
       "      <th>2</th>\n",
       "      <td>Mass</td>\n",
       "      <td>6.42 x 10^23 kg (10.7% Earth)</td>\n",
       "    </tr>\n",
       "    <tr>\n",
       "      <th>3</th>\n",
       "      <td>Moons</td>\n",
       "      <td>2 (Phobos &amp; Deimos)</td>\n",
       "    </tr>\n",
       "    <tr>\n",
       "      <th>4</th>\n",
       "      <td>Orbit Distance</td>\n",
       "      <td>227,943,824 km (1.52 AU)</td>\n",
       "    </tr>\n",
       "    <tr>\n",
       "      <th>5</th>\n",
       "      <td>Orbit Period</td>\n",
       "      <td>687 days (1.9 years)\\n</td>\n",
       "    </tr>\n",
       "    <tr>\n",
       "      <th>6</th>\n",
       "      <td>Surface Temperature</td>\n",
       "      <td>-153 to 20 °C</td>\n",
       "    </tr>\n",
       "    <tr>\n",
       "      <th>7</th>\n",
       "      <td>First Record</td>\n",
       "      <td>2nd millennium BC</td>\n",
       "    </tr>\n",
       "    <tr>\n",
       "      <th>8</th>\n",
       "      <td>Recorded By</td>\n",
       "      <td>Egyptian astronomers</td>\n",
       "    </tr>\n",
       "  </tbody>\n",
       "</table>\n",
       "</div>"
      ],
      "text/plain": [
       "                  Fact                         Result\n",
       "0  Equatorial Diameter                     6,792 km\\n\n",
       "1       Polar Diameter                     6,752 km\\n\n",
       "2                 Mass  6.42 x 10^23 kg (10.7% Earth)\n",
       "3                Moons            2 (Phobos & Deimos)\n",
       "4       Orbit Distance       227,943,824 km (1.52 AU)\n",
       "5         Orbit Period         687 days (1.9 years)\\n\n",
       "6  Surface Temperature                  -153 to 20 °C\n",
       "7         First Record              2nd millennium BC\n",
       "8          Recorded By           Egyptian astronomers"
      ]
     },
     "execution_count": 26,
     "metadata": {},
     "output_type": "execute_result"
    }
   ],
   "source": [
    "facts_column = []\n",
    "results_column = []\n",
    "\n",
    "for result in results:\n",
    "    facts_column.append(result.text.split(\":\")[0])\n",
    "\n",
    "\n",
    "for result in results2:\n",
    "    results_column.append(result.text)\n",
    "    \n",
    "data = {\"Fact\":facts_column, \"Result\": results_column}\n",
    "facts_df = pd.DataFrame(data)\n",
    "\n",
    "facts_df.to_html(\"mars_facts.html\", index = False)\n",
    "\n",
    "facts_df"
   ]
  },
  {
   "cell_type": "code",
   "execution_count": 61,
   "metadata": {},
   "outputs": [],
   "source": [
    "# URL for fifth page to be scraped\n",
    "url5 = \"https://astrogeology.usgs.gov/search/results?q=hemisphere+enhanced&k1=target&v1=Mars\"\n",
    "\n",
    "# Set browser\n",
    "browser5 = Browser(\"chrome\", **executable_path, headless=False)\n",
    "browser5.visit(url5)\n",
    "\n",
    "# Create a Beautiful Soup object from usgs.gov\n",
    "html5 = browser5.html\n",
    "soup5 = bs(html5, 'html.parser')"
   ]
  },
  {
   "cell_type": "code",
   "execution_count": 62,
   "metadata": {},
   "outputs": [],
   "source": [
    "# Find titles and images of Mars hemispheres from usgs.gov\n",
    "results3 = soup5.find_all(\"div\", class_=\"item\")"
   ]
  },
  {
   "cell_type": "code",
   "execution_count": 63,
   "metadata": {},
   "outputs": [
    {
     "data": {
      "text/plain": [
       "[{'title': 'Cerberus Hemisphere',\n",
       "  'image_url': 'https://astropedia.astrogeology.usgs.gov/download/Mars/Viking/cerberus_enhanced.tif/full.jpg'},\n",
       " {'title': 'Schiaparelli Hemisphere',\n",
       "  'image_url': 'https://astropedia.astrogeology.usgs.gov/download/Mars/Viking/schiaparelli_enhanced.tif/full.jpg'},\n",
       " {'title': 'Syrtis Major Hemisphere',\n",
       "  'image_url': 'https://astropedia.astrogeology.usgs.gov/download/Mars/Viking/syrtis_major_enhanced.tif/full.jpg'},\n",
       " {'title': 'Valles Marineris Hemisphere',\n",
       "  'image_url': 'https://astropedia.astrogeology.usgs.gov/download/Mars/Viking/valles_marineris_enhanced.tif/full.jpg'}]"
      ]
     },
     "execution_count": 63,
     "metadata": {},
     "output_type": "execute_result"
    }
   ],
   "source": [
    "# Iterate through results, storing dictionary items in list\n",
    "hemispheres = []\n",
    "\n",
    "for result in results3:\n",
    "    # Store URL to full image in variable\n",
    "    url = result.find(\"a\")[\"href\"].split(\"map\")[-1]\n",
    "    image_url = \"https://astropedia.astrogeology.usgs.gov/download\"+url+\".tif/full.jpg\"\n",
    "    # Clean title and in variable\n",
    "    title = (result.find(\"h3\").text.split(\" Enhanced\")[0])\n",
    "    \n",
    "    # Create dictionary\n",
    "    hemispheres_dict = {}\n",
    "    # Store one instance of title and image\n",
    "    hemispheres_dict[\"title\"] = title\n",
    "    hemispheres_dict[\"image_url\"] = image_url\n",
    "    # Add key and value to dict\n",
    "    hemispheres_dict_values = hemispheres_dict\n",
    "    # Append \"entire\" dict to list; dict is unordered and will overwrite on next iteration\n",
    "    hemispheres.append(hemispheres_dict_values)\n",
    "    \n",
    "hemispheres"
   ]
  }
 ],
 "metadata": {
  "kernelspec": {
   "display_name": "Python 3",
   "language": "python",
   "name": "python3"
  },
  "language_info": {
   "codemirror_mode": {
    "name": "ipython",
    "version": 3
   },
   "file_extension": ".py",
   "mimetype": "text/x-python",
   "name": "python",
   "nbconvert_exporter": "python",
   "pygments_lexer": "ipython3",
   "version": "3.6.4"
  }
 },
 "nbformat": 4,
 "nbformat_minor": 2
}
